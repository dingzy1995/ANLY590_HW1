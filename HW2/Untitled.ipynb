{
 "cells": [
  {
   "cell_type": "code",
   "execution_count": 1,
   "metadata": {},
   "outputs": [],
   "source": [
    "import numpy as np\n",
    "import matplotlib as mpl\n",
    "import matplotlib.pyplot as plt"
   ]
  },
  {
   "cell_type": "code",
   "execution_count": 23,
   "metadata": {},
   "outputs": [],
   "source": [
    "#generating examples\n",
    "X = np.array([[1,-1],[0,-1],[0,1]])\n",
    "W = np.array([[1,-1,0],[0,0,.5]])\n",
    "V = np.array([1,0,-1])\n",
    "b1 = np.array([0,0,1])\n",
    "b2 = np.array([1])\n",
    "V = np.reshape(V, (3,1))"
   ]
  },
  {
   "cell_type": "code",
   "execution_count": 25,
   "metadata": {},
   "outputs": [
    {
     "name": "stdout",
     "output_type": "stream",
     "text": [
      "[1.5]\n",
      "[0.5]\n",
      "[0.]\n"
     ]
    }
   ],
   "source": [
    "def ff_nn__ReLu(X, W, V, b, c):\n",
    "    for x in X:\n",
    "        H = x.dot(W)\n",
    "        H = np.add(H, b1)\n",
    "        H = np.where(H>0, H, 0)\n",
    "        yhat = H.dot(V)\n",
    "        yhat = np.add(yhat, b2)\n",
    "        yhat = np.where(yhat>0, yhat, 0)\n",
    "        print(yhat)\n",
    "ff_nn__ReLu(X,W,V,b1,b2)"
   ]
  },
  {
   "cell_type": "code",
   "execution_count": null,
   "metadata": {},
   "outputs": [],
   "source": []
  }
 ],
 "metadata": {
  "kernelspec": {
   "display_name": "Python 3",
   "language": "python",
   "name": "python3"
  },
  "language_info": {
   "codemirror_mode": {
    "name": "ipython",
    "version": 3
   },
   "file_extension": ".py",
   "mimetype": "text/x-python",
   "name": "python",
   "nbconvert_exporter": "python",
   "pygments_lexer": "ipython3",
   "version": "3.6.5"
  }
 },
 "nbformat": 4,
 "nbformat_minor": 2
}
