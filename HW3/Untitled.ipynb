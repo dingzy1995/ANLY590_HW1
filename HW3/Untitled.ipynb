{
  "nbformat": 4,
  "nbformat_minor": 0,
  "metadata": {
    "kernelspec": {
      "display_name": "Python [conda env:PythonCPU] *",
      "language": "python",
      "name": "conda-env-PythonCPU-py"
    },
    "language_info": {
      "codemirror_mode": {
        "name": "ipython",
        "version": 3
      },
      "file_extension": ".py",
      "mimetype": "text/x-python",
      "name": "python",
      "nbconvert_exporter": "python",
      "pygments_lexer": "ipython3",
      "version": "3.7.5"
    },
    "colab": {
      "name": "Untitled.ipynb",
      "provenance": [],
      "collapsed_sections": []
    },
    "accelerator": "GPU"
  },
  "cells": [
    {
      "cell_type": "markdown",
      "metadata": {
        "id": "lfr_nw43ULKQ",
        "colab_type": "text"
      },
      "source": [
        "# 1. Autoencoder"
      ]
    },
    {
      "cell_type": "code",
      "metadata": {
        "id": "3QxnVd-OULKS",
        "colab_type": "code",
        "colab": {}
      },
      "source": [
        "import keras\n",
        "from keras.layers import Input, Dense, Conv2D, MaxPooling2D, UpSampling2D\n",
        "from keras.models import Model\n",
        "from keras import models\n",
        "from keras import backend as K\n",
        "from keras import layers\n",
        "from keras.utils import to_categorical\n",
        "import tensorflow as tf\n",
        "import numpy as np\n",
        "import cv2\n",
        "import pandas as pd\n",
        "from keras.datasets import fashion_mnist"
      ],
      "execution_count": 0,
      "outputs": []
    },
    {
      "cell_type": "code",
      "metadata": {
        "id": "pUKq3fUSULKW",
        "colab_type": "code",
        "colab": {}
      },
      "source": [
        "input_img = Input(shape=(28, 28, 1))  # adapt this if using `channels_first` image data format\n",
        "\n",
        "x = Conv2D(16, (3, 3), activation='relu', padding='same')(input_img)\n",
        "x = MaxPooling2D((2, 2), padding='same')(x)\n",
        "x = Conv2D(8, (3, 3), activation='relu', padding='same')(x)\n",
        "x = MaxPooling2D((2, 2), padding='same')(x)\n",
        "x = Conv2D(8, (3, 3), activation='relu', padding='same')(x)\n",
        "encoded = MaxPooling2D((2, 2), padding='same')(x)\n",
        "\n",
        "# at this point the representation is (4, 4, 8) i.e. 128-dimensional\n",
        "\n",
        "x = Conv2D(8, (3, 3), activation='relu', padding='same')(encoded)\n",
        "x = UpSampling2D((2, 2))(x)\n",
        "x = Conv2D(8, (3, 3), activation='relu', padding='same')(x)\n",
        "x = UpSampling2D((2, 2))(x)\n",
        "x = Conv2D(16, (3, 3), activation='relu')(x)\n",
        "x = UpSampling2D((2, 2))(x)\n",
        "decoded = Conv2D(1, (3, 3), activation='sigmoid', padding='same')(x)\n",
        "\n",
        "autoencoder = Model(input_img, decoded)\n",
        "autoencoder.compile(optimizer='adadelta', loss='binary_crossentropy')"
      ],
      "execution_count": 0,
      "outputs": []
    },
    {
      "cell_type": "code",
      "metadata": {
        "id": "sbriqnL-ULKY",
        "colab_type": "code",
        "colab": {}
      },
      "source": [
        "from keras.datasets import mnist\n",
        "import numpy as np\n",
        "\n",
        "(x_train, y_train), (x_test, y_test) = fashion_mnist.load_data()\n",
        "x_train = x_train.astype('float32') / 255.\n",
        "x_test = x_test.astype('float32') / 255.\n",
        "x_train = np.reshape(x_train, (len(x_train), 28, 28, 1))  # adapt this if using `channels_first` image data format\n",
        "x_test = np.reshape(x_test, (len(x_test), 28, 28, 1))  # adapt this if using `channels_first` image data format"
      ],
      "execution_count": 0,
      "outputs": []
    },
    {
      "cell_type": "code",
      "metadata": {
        "id": "6_WB8aS7ULKa",
        "colab_type": "code",
        "colab": {},
        "outputId": "da167c83-2513-4dd8-f6d0-f01ac80ec59e"
      },
      "source": [
        "from keras.callbacks import TensorBoard\n",
        "autoencoder.fit(x_train, x_train,\n",
        "                epochs=50,\n",
        "                batch_size=128,\n",
        "                shuffle=True,\n",
        "                validation_data=(x_test, x_test),\n",
        "                )"
      ],
      "execution_count": 0,
      "outputs": [
        {
          "output_type": "stream",
          "text": [
            "Train on 60000 samples, validate on 10000 samples\n",
            "Epoch 1/50\n",
            "60000/60000 [==============================] - 78s 1ms/step - loss: 0.3677 - val_loss: 0.3300\n",
            "Epoch 2/50\n",
            "60000/60000 [==============================] - 73s 1ms/step - loss: 0.3233 - val_loss: 0.3146\n",
            "Epoch 3/50\n",
            "60000/60000 [==============================] - 77s 1ms/step - loss: 0.3132 - val_loss: 0.3077\n",
            "Epoch 4/50\n",
            "60000/60000 [==============================] - 73s 1ms/step - loss: 0.3076 - val_loss: 0.3037\n",
            "Epoch 5/50\n",
            "60000/60000 [==============================] - 66s 1ms/step - loss: 0.3043 - val_loss: 0.3028\n",
            "Epoch 6/50\n",
            "60000/60000 [==============================] - 65s 1ms/step - loss: 0.3021 - val_loss: 0.3018\n",
            "Epoch 7/50\n",
            "60000/60000 [==============================] - 65s 1ms/step - loss: 0.3004 - val_loss: 0.3025\n",
            "Epoch 8/50\n",
            "60000/60000 [==============================] - 64s 1ms/step - loss: 0.2992 - val_loss: 0.2982\n",
            "Epoch 9/50\n",
            "60000/60000 [==============================] - 64s 1ms/step - loss: 0.2975 - val_loss: 0.2967\n",
            "Epoch 10/50\n",
            "60000/60000 [==============================] - 65s 1ms/step - loss: 0.2963 - val_loss: 0.2957\n",
            "Epoch 11/50\n",
            "60000/60000 [==============================] - 64s 1ms/step - loss: 0.2955 - val_loss: 0.2964\n",
            "Epoch 12/50\n",
            "60000/60000 [==============================] - 65s 1ms/step - loss: 0.2946 - val_loss: 0.2955\n",
            "Epoch 13/50\n",
            "60000/60000 [==============================] - 68s 1ms/step - loss: 0.2941 - val_loss: 0.2974\n",
            "Epoch 14/50\n",
            "60000/60000 [==============================] - 66s 1ms/step - loss: 0.2927 - val_loss: 0.2929\n",
            "Epoch 15/50\n",
            "60000/60000 [==============================] - 64s 1ms/step - loss: 0.2921 - val_loss: 0.2957\n",
            "Epoch 16/50\n",
            "60000/60000 [==============================] - 64s 1ms/step - loss: 0.2918 - val_loss: 0.2959\n",
            "Epoch 17/50\n",
            "60000/60000 [==============================] - 63s 1ms/step - loss: 0.2914 - val_loss: 0.2905\n",
            "Epoch 18/50\n",
            "60000/60000 [==============================] - 63s 1ms/step - loss: 0.2910 - val_loss: 0.2911\n",
            "Epoch 19/50\n",
            "60000/60000 [==============================] - 63s 1ms/step - loss: 0.2907 - val_loss: 0.2912\n",
            "Epoch 20/50\n",
            "60000/60000 [==============================] - 63s 1ms/step - loss: 0.2901 - val_loss: 0.2903\n",
            "Epoch 21/50\n",
            "60000/60000 [==============================] - 65s 1ms/step - loss: 0.2896 - val_loss: 0.2938\n",
            "Epoch 22/50\n",
            "60000/60000 [==============================] - 64s 1ms/step - loss: 0.2897 - val_loss: 0.2910\n",
            "Epoch 23/50\n",
            "60000/60000 [==============================] - 63s 1ms/step - loss: 0.2894 - val_loss: 0.2903\n",
            "Epoch 24/50\n",
            "60000/60000 [==============================] - 63s 1ms/step - loss: 0.2890 - val_loss: 0.2926\n",
            "Epoch 25/50\n",
            "60000/60000 [==============================] - 64s 1ms/step - loss: 0.2884 - val_loss: 0.2878\n",
            "Epoch 26/50\n",
            "60000/60000 [==============================] - 64s 1ms/step - loss: 0.2881 - val_loss: 0.2874\n",
            "Epoch 27/50\n",
            "60000/60000 [==============================] - 71s 1ms/step - loss: 0.2879 - val_loss: 0.2912\n",
            "Epoch 28/50\n",
            "60000/60000 [==============================] - 62s 1ms/step - loss: 0.2876 - val_loss: 0.2928\n",
            "Epoch 29/50\n",
            "60000/60000 [==============================] - 60s 1ms/step - loss: 0.2878 - val_loss: 0.2884\n",
            "Epoch 30/50\n",
            "60000/60000 [==============================] - 61s 1ms/step - loss: 0.2877 - val_loss: 0.2883\n",
            "Epoch 31/50\n",
            "60000/60000 [==============================] - 61s 1ms/step - loss: 0.2875 - val_loss: 0.2886\n",
            "Epoch 32/50\n",
            "60000/60000 [==============================] - 69s 1ms/step - loss: 0.2873 - val_loss: 0.2926\n",
            "Epoch 33/50\n",
            "60000/60000 [==============================] - 69s 1ms/step - loss: 0.2870 - val_loss: 0.2879\n",
            "Epoch 34/50\n",
            "60000/60000 [==============================] - 64s 1ms/step - loss: 0.2868 - val_loss: 0.2862\n",
            "Epoch 35/50\n",
            "60000/60000 [==============================] - 64s 1ms/step - loss: 0.2865 - val_loss: 0.2889\n",
            "Epoch 36/50\n",
            "60000/60000 [==============================] - 64s 1ms/step - loss: 0.2866 - val_loss: 0.2880\n",
            "Epoch 37/50\n",
            "60000/60000 [==============================] - 64s 1ms/step - loss: 0.2864 - val_loss: 0.2885\n",
            "Epoch 38/50\n",
            "60000/60000 [==============================] - 64s 1ms/step - loss: 0.2863 - val_loss: 0.2920\n",
            "Epoch 39/50\n",
            "60000/60000 [==============================] - 64s 1ms/step - loss: 0.2861 - val_loss: 0.2880\n",
            "Epoch 40/50\n",
            "60000/60000 [==============================] - 63s 1ms/step - loss: 0.2858 - val_loss: 0.2861\n",
            "Epoch 41/50\n",
            "60000/60000 [==============================] - 63s 1ms/step - loss: 0.2856 - val_loss: 0.2880\n",
            "Epoch 42/50\n",
            "60000/60000 [==============================] - 63s 1ms/step - loss: 0.2856 - val_loss: 0.2874\n",
            "Epoch 43/50\n",
            "60000/60000 [==============================] - 64s 1ms/step - loss: 0.2856 - val_loss: 0.2904\n",
            "Epoch 44/50\n",
            "60000/60000 [==============================] - 64s 1ms/step - loss: 0.2855 - val_loss: 0.2872\n",
            "Epoch 45/50\n",
            "60000/60000 [==============================] - 64s 1ms/step - loss: 0.2853 - val_loss: 0.2865\n",
            "Epoch 46/50\n",
            "60000/60000 [==============================] - 64s 1ms/step - loss: 0.2852 - val_loss: 0.2865\n",
            "Epoch 47/50\n",
            "60000/60000 [==============================] - 63s 1ms/step - loss: 0.2849 - val_loss: 0.2868\n",
            "Epoch 48/50\n",
            "60000/60000 [==============================] - 64s 1ms/step - loss: 0.2850 - val_loss: 0.2900\n",
            "Epoch 49/50\n",
            "60000/60000 [==============================] - 65s 1ms/step - loss: 0.2848 - val_loss: 0.2877\n",
            "Epoch 50/50\n",
            "60000/60000 [==============================] - 63s 1ms/step - loss: 0.2849 - val_loss: 0.2842\n"
          ],
          "name": "stdout"
        },
        {
          "output_type": "execute_result",
          "data": {
            "text/plain": [
              "<keras.callbacks.callbacks.History at 0x1bc4c0e02c8>"
            ]
          },
          "metadata": {
            "tags": []
          },
          "execution_count": 4
        }
      ]
    },
    {
      "cell_type": "code",
      "metadata": {
        "id": "9aNbBBo6ULKc",
        "colab_type": "code",
        "colab": {},
        "outputId": "920087f2-3a42-45c7-96a4-50e377fc184e"
      },
      "source": [
        "import matplotlib.pyplot as plt\n",
        "decoded_imgs = autoencoder.predict(x_test)\n",
        "\n",
        "n = 10\n",
        "plt.figure(figsize=(20, 4))\n",
        "for i in range(n):\n",
        "    # display original\n",
        "    ax = plt.subplot(2, n, i+1)\n",
        "    plt.imshow(x_test[i].reshape(28, 28))\n",
        "    plt.gray()\n",
        "    ax.get_xaxis().set_visible(False)\n",
        "    ax.get_yaxis().set_visible(False)\n",
        "\n",
        "    # display reconstruction\n",
        "    ax = plt.subplot(2, n, i + n+1)\n",
        "    plt.imshow(decoded_imgs[i].reshape(28, 28))\n",
        "    plt.gray()\n",
        "    ax.get_xaxis().set_visible(False)\n",
        "    ax.get_yaxis().set_visible(False)\n",
        "plt.show()"
      ],
      "execution_count": 0,
      "outputs": [
        {
          "output_type": "display_data",
          "data": {
            "image/png": "[encoded data removed]",
            "text/plain": [
              "<Figure size 1440x288 with 20 Axes>"
            ]
          },
          "metadata": {
            "tags": [],
            "needs_background": "light"
          }
        }
      ]
    },
    {
      "cell_type": "markdown",
      "metadata": {
        "id": "Z14SQhQoULKe",
        "colab_type": "text"
      },
      "source": [
        "# 2. Image Classification"
      ]
    },
    {
      "cell_type": "markdown",
      "metadata": {
        "id": "QE4FeB16ULKe",
        "colab_type": "text"
      },
      "source": [
        "## 2.1 Deep CNN"
      ]
    },
    {
      "cell_type": "code",
      "metadata": {
        "id": "xxrSRAX6ULKf",
        "colab_type": "code",
        "colab": {},
        "outputId": "2d8f59ed-c568-4369-a0fb-1abcb136707e"
      },
      "source": [
        "(X_train, y_train), (X_test, y_test) = fashion_mnist.load_data()\n",
        "#preparing the data for training\n",
        "X_train = X_train.reshape(60000,28,28,1)\n",
        "X_test = X_test.reshape(10000,28,28,1)\n",
        "y_train = to_categorical(y_train)\n",
        "y_test = to_categorical(y_test)\n",
        "\n",
        "#create sequential\n",
        "model = models.Sequential()\n",
        "#add layers\n",
        "model.add(layers.Conv2D(64, kernel_size=3, activation='relu', input_shape=(28,28,1)))\n",
        "model.add(layers.Conv2D(32, kernel_size=3, activation='relu'))\n",
        "model.add(layers.Conv2D(16, kernel_size=3, activation='relu'))\n",
        "model.add(layers.Flatten())\n",
        "model.add(layers.Dense(10, activation='softmax'))\n",
        "model.compile(optimizer='adam', loss='categorical_crossentropy', metrics=['accuracy'])\n",
        "#train the model\n",
        "model.fit(X_train, y_train, validation_data=(X_test, y_test), epochs=3)"
      ],
      "execution_count": 0,
      "outputs": [
        {
          "output_type": "stream",
          "text": [
            "Train on 60000 samples, validate on 10000 samples\n",
            "Epoch 1/3\n",
            "60000/60000 [==============================] - 124s 2ms/step - loss: 0.5004 - accuracy: 0.8374 - val_loss: 0.3820 - val_accuracy: 0.8635\n",
            "Epoch 2/3\n",
            "60000/60000 [==============================] - 118s 2ms/step - loss: 0.3200 - accuracy: 0.8855 - val_loss: 0.3996 - val_accuracy: 0.8615\n",
            "Epoch 3/3\n",
            "60000/60000 [==============================] - 123s 2ms/step - loss: 0.2803 - accuracy: 0.8979 - val_loss: 0.3297 - val_accuracy: 0.8839\n"
          ],
          "name": "stdout"
        },
        {
          "output_type": "execute_result",
          "data": {
            "text/plain": [
              "<keras.callbacks.callbacks.History at 0x248efdadd08>"
            ]
          },
          "metadata": {
            "tags": []
          },
          "execution_count": 8
        }
      ]
    },
    {
      "cell_type": "code",
      "metadata": {
        "id": "AVasTEBkULKh",
        "colab_type": "code",
        "colab": {},
        "outputId": "29ecf4fb-5bb3-44aa-ee39-825fe8593745"
      },
      "source": [
        "model.evaluate(X_test, y_test)"
      ],
      "execution_count": 0,
      "outputs": [
        {
          "output_type": "stream",
          "text": [
            "10000/10000 [==============================] - 2s 245us/step\n"
          ],
          "name": "stdout"
        },
        {
          "output_type": "execute_result",
          "data": {
            "text/plain": [
              "[0.32965097715854647, 0.883899986743927]"
            ]
          },
          "metadata": {
            "tags": []
          },
          "execution_count": 9
        }
      ]
    },
    {
      "cell_type": "markdown",
      "metadata": {
        "id": "qNtZ0sQ1ULKj",
        "colab_type": "text"
      },
      "source": [
        "## 2.2 Transfer Learning"
      ]
    },
    {
      "cell_type": "code",
      "metadata": {
        "id": "P3FpmtVAULKj",
        "colab_type": "code",
        "colab": {},
        "outputId": "26884a65-5106-4226-f800-2dc43d0a13a4"
      },
      "source": [
        "from keras.datasets import mnist\n",
        "from keras.preprocessing.image import img_to_array, array_to_img\n",
        "(X_train, y_train), (X_test, y_test) = fashion_mnist.load_data()\n",
        "#resizing the images to fit min size of resnet\n",
        "X_train = X_train.reshape(60000,28,28,1)\n",
        "X_test = X_test.reshape(10000,28,28,1)\n",
        "X_train = np.concatenate([X_train]*3, axis = -1)\n",
        "X_test = np.concatenate([X_test]*3, axis = -1)\n",
        "X_train = np.asarray([img_to_array(array_to_img(im, scale=False).resize((32, 32)))for im in X_train])\n",
        "X_test = np.asarray([img_to_array(array_to_img(im, scale=False).resize((32, 32)))for im in X_test])\n",
        "y_train = to_categorical(y_train)\n",
        "y_test = to_categorical(y_test)\n",
        "print(X_train.shape)"
      ],
      "execution_count": 0,
      "outputs": [
        {
          "output_type": "stream",
          "text": [
            "(60000, 32, 32, 3)\n"
          ],
          "name": "stdout"
        }
      ]
    },
    {
      "cell_type": "code",
      "metadata": {
        "id": "pj6LgMOqULKl",
        "colab_type": "code",
        "colab": {},
        "outputId": "0133d530-f209-41b4-c4c9-cd6b83a42938"
      },
      "source": [
        "#calling the resnet model\n",
        "keras_layer = keras.applications.resnet.ResNet50(\n",
        "    include_top=False, weights='imagenet', input_tensor=None, input_shape=(32,32,3), pooling=None, classes=10\n",
        ")\n",
        "res_Model = models.Sequential()\n",
        "res_Model.add(keras_layer)\n",
        "res_Model.add(layers.Flatten())\n",
        "res_Model.add(layers.Dense(10, activation='softmax'))\n",
        "res_Model.compile(optimizer='adam', loss='categorical_crossentropy', metrics=['accuracy'])\n",
        "#train the model\n",
        "res_Model.fit(X_train, y_train, validation_data=(X_test, y_test), epochs=3)"
      ],
      "execution_count": 0,
      "outputs": [
        {
          "output_type": "stream",
          "text": [
            "Train on 60000 samples, validate on 10000 samples\n",
            "Epoch 1/3\n",
            "60000/60000 [==============================] - 2818s 47ms/step - loss: 0.8108 - accuracy: 0.7724 - val_loss: 0.6414 - val_accuracy: 0.7667\n",
            "Epoch 2/3\n",
            "60000/60000 [==============================] - 2979s 50ms/step - loss: 0.6405 - accuracy: 0.8021 - val_loss: 0.8568 - val_accuracy: 0.6971\n",
            "Epoch 3/3\n",
            "60000/60000 [==============================] - 2766s 46ms/step - loss: 0.5114 - accuracy: 0.8358 - val_loss: 3.8811 - val_accuracy: 0.5610\n"
          ],
          "name": "stdout"
        },
        {
          "output_type": "execute_result",
          "data": {
            "text/plain": [
              "<keras.callbacks.callbacks.History at 0x20ff4b6d588>"
            ]
          },
          "metadata": {
            "tags": []
          },
          "execution_count": 3
        }
      ]
    },
    {
      "cell_type": "code",
      "metadata": {
        "id": "z-7mLWkhULKn",
        "colab_type": "code",
        "colab": {},
        "outputId": "aa203115-4bc3-4d9f-edbb-9eca1af7f632"
      },
      "source": [
        "res_Model.evaluate(X_test, y_test)"
      ],
      "execution_count": 0,
      "outputs": [
        {
          "output_type": "stream",
          "text": [
            "10000/10000 [==============================] - 31s 3ms/step\n"
          ],
          "name": "stdout"
        },
        {
          "output_type": "execute_result",
          "data": {
            "text/plain": [
              "[3.8811142740249633, 0.5609999895095825]"
            ]
          },
          "metadata": {
            "tags": []
          },
          "execution_count": 4
        }
      ]
    },
    {
      "cell_type": "markdown",
      "metadata": {
        "id": "wSVcnmwxULKp",
        "colab_type": "text"
      },
      "source": [
        "# 3. Text Classification"
      ]
    },
    {
      "cell_type": "markdown",
      "metadata": {
        "id": "iqgUeJLtULKp",
        "colab_type": "text"
      },
      "source": [
        "## 3.1 RNN"
      ]
    },
    {
      "cell_type": "code",
      "metadata": {
        "id": "NEpeQJRdULKq",
        "colab_type": "code",
        "colab": {}
      },
      "source": [
        "from keras.preprocessing.text import Tokenizer\n",
        "from keras.preprocessing.sequence import pad_sequences\n",
        "from sklearn.model_selection import train_test_split"
      ],
      "execution_count": 0,
      "outputs": []
    },
    {
      "cell_type": "code",
      "metadata": {
        "id": "PKzemjHzULKr",
        "colab_type": "code",
        "colab": {},
        "outputId": "9e6082e9-60e5-41a5-f63d-aff85cc1a736"
      },
      "source": [
        "df = pd.read_csv('twitter-data/tweets_with_labels.csv', sep='\\t')\n",
        "print(df.head())"
      ],
      "execution_count": 0,
      "outputs": [
        {
          "output_type": "stream",
          "text": [
            "   id                                              tweet   k1   k2   k3   k4  \\\n",
            "0   1                Jazz for a Rainy Afternoon:  {link}  0.0  0.0  0.0  0.0   \n",
            "1   2                   RT: @mention: I love rainy days.  0.0  0.0  0.0  0.0   \n",
            "2   3  Good Morning Chicago! Time to kick the Windy C...  0.0  0.0  0.0  0.0   \n",
            "3   6  Preach lol! :) RT @mention: #alliwantis this t...  0.0  0.0  0.0  0.0   \n",
            "4   9                     @mention good morning sunshine  0.0  0.0  0.0  0.0   \n",
            "\n",
            "    k5   k6     k7   k8     k9  k10  k11  k12    k13  k14  k15  \n",
            "0  0.0  0.0  0.000  0.0  0.000  1.0  0.0  0.0  0.000  0.0  0.0  \n",
            "1  0.0  0.0  0.000  0.0  0.000  1.0  0.0  0.0  0.000  0.0  0.0  \n",
            "2  0.0  0.0  1.000  0.0  0.000  0.0  0.0  0.0  0.000  0.0  0.0  \n",
            "3  0.0  0.0  0.604  0.0  0.196  0.0  0.0  0.0  0.201  0.0  0.0  \n",
            "4  0.0  0.0  0.000  0.0  0.000  0.0  0.0  0.0  1.000  0.0  0.0  \n"
          ],
          "name": "stdout"
        }
      ]
    },
    {
      "cell_type": "code",
      "metadata": {
        "id": "jUXuNFVFWHZF",
        "colab_type": "code",
        "colab": {
          "resources": {
            "http://localhost:8080/nbextensions/google.colab/files.js": {
              "data": "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",
              "ok": true,
              "headers": [
                [
                  "content-type",
                  "application/javascript"
                ]
              ],
              "status": 200,
              "status_text": ""
            }
          },
          "base_uri": "https://localhost:8080/",
          "height": 77
        },
        "outputId": "5b5a7ac6-0915-45a5-c476-6b93081741fc"
      },
      "source": [
        "from google.colab import files\n",
        "uploaded = files.upload()"
      ],
      "execution_count": 9,
      "outputs": [
        {
          "output_type": "display_data",
          "data": {
            "text/html": [
              "\n",
              "     <input type=\"file\" id=\"files-8f3bed8d-6e10-4020-ac7e-e4f476a8c2d3\" name=\"files[]\" multiple disabled />\n",
              "     <output id=\"result-8f3bed8d-6e10-4020-ac7e-e4f476a8c2d3\">\n",
              "      Upload widget is only available when the cell has been executed in the\n",
              "      current browser session. Please rerun this cell to enable.\n",
              "      </output>\n",
              "      <script src=\"/nbextensions/google.colab/files.js\"></script> "
            ],
            "text/plain": [
              "<IPython.core.display.HTML object>"
            ]
          },
          "metadata": {
            "tags": []
          }
        },
        {
          "output_type": "stream",
          "text": [
            "Saving tweets_with_labels.csv to tweets_with_labels (1).csv\n"
          ],
          "name": "stdout"
        }
      ]
    },
    {
      "cell_type": "code",
      "metadata": {
        "id": "uEDuds88Xmty",
        "colab_type": "code",
        "colab": {}
      },
      "source": [
        "import io\n",
        "df = pd.read_csv(io.BytesIO(uploaded['tweets_with_labels.csv']), sep='\\t')"
      ],
      "execution_count": 0,
      "outputs": []
    },
    {
      "cell_type": "code",
      "metadata": {
        "id": "dTwqbbDKULKt",
        "colab_type": "code",
        "colab": {
          "base_uri": "https://localhost:8080/",
          "height": 252
        },
        "outputId": "e71cba58-ad38-403f-e9f3-bbb73419c8e7"
      },
      "source": [
        "X=df['tweet']\n",
        "y=df.iloc[:, 2:17]\n",
        "print(X.head())\n",
        "print(y.head())"
      ],
      "execution_count": 31,
      "outputs": [
        {
          "output_type": "stream",
          "text": [
            "0                  Jazz for a Rainy Afternoon:  {link}\n",
            "1                     RT: @mention: I love rainy days.\n",
            "2    Good Morning Chicago! Time to kick the Windy C...\n",
            "3    Preach lol! :) RT @mention: #alliwantis this t...\n",
            "4                       @mention good morning sunshine\n",
            "Name: tweet, dtype: object\n",
            "    k1   k2   k3   k4   k5   k6     k7  ...     k9  k10  k11  k12    k13  k14  k15\n",
            "0  0.0  0.0  0.0  0.0  0.0  0.0  0.000  ...  0.000  1.0  0.0  0.0  0.000  0.0  0.0\n",
            "1  0.0  0.0  0.0  0.0  0.0  0.0  0.000  ...  0.000  1.0  0.0  0.0  0.000  0.0  0.0\n",
            "2  0.0  0.0  0.0  0.0  0.0  0.0  1.000  ...  0.000  0.0  0.0  0.0  0.000  0.0  0.0\n",
            "3  0.0  0.0  0.0  0.0  0.0  0.0  0.604  ...  0.196  0.0  0.0  0.0  0.201  0.0  0.0\n",
            "4  0.0  0.0  0.0  0.0  0.0  0.0  0.000  ...  0.000  0.0  0.0  0.0  1.000  0.0  0.0\n",
            "\n",
            "[5 rows x 15 columns]\n"
          ],
          "name": "stdout"
        }
      ]
    },
    {
      "cell_type": "code",
      "metadata": {
        "id": "pKDP9ojaULKv",
        "colab_type": "code",
        "colab": {},
        "outputId": "8b2c430f-caa6-4d5a-af40-0f7385b8c483"
      },
      "source": [
        "#divid x by space\n",
        "length = X.size\n",
        "val =[]\n",
        "for i in range(length):\n",
        "    val.append(X[i].split())\n",
        "X.update(pd.Series(val))\n",
        "print(X.head())"
      ],
      "execution_count": 0,
      "outputs": [
        {
          "output_type": "stream",
          "text": [
            "0            [Jazz, for, a, Rainy, Afternoon:, {link}]\n",
            "1              [RT:, @mention:, I, love, rainy, days.]\n",
            "2    [Good, Morning, Chicago!, Time, to, kick, the,...\n",
            "3    [Preach, lol!, :), RT, @mention:, #alliwantis,...\n",
            "4                  [@mention, good, morning, sunshine]\n",
            "Name: tweet, dtype: object\n"
          ],
          "name": "stdout"
        }
      ]
    },
    {
      "cell_type": "code",
      "metadata": {
        "id": "B1bxP6_yULKx",
        "colab_type": "code",
        "colab": {
          "base_uri": "https://localhost:8080/",
          "height": 118
        },
        "outputId": "98fc3d2b-32ab-47cc-ca6c-11b35cdf303a"
      },
      "source": [
        "#divid x into words/tokens using keras\n",
        "tokenizer = Tokenizer()\n",
        "tokenizer.fit_on_texts(X)\n",
        "print(X.head())"
      ],
      "execution_count": 32,
      "outputs": [
        {
          "output_type": "stream",
          "text": [
            "0                  Jazz for a Rainy Afternoon:  {link}\n",
            "1                     RT: @mention: I love rainy days.\n",
            "2    Good Morning Chicago! Time to kick the Windy C...\n",
            "3    Preach lol! :) RT @mention: #alliwantis this t...\n",
            "4                       @mention good morning sunshine\n",
            "Name: tweet, dtype: object\n"
          ],
          "name": "stdout"
        }
      ]
    },
    {
      "cell_type": "code",
      "metadata": {
        "id": "8ikCmZqyULKz",
        "colab_type": "code",
        "colab": {}
      },
      "source": [
        "def max_len(s):\n",
        "    max_l = 0\n",
        "    for c in s:\n",
        "        if max_l<len(c):\n",
        "            max_l=len(c)\n",
        "    return max_l"
      ],
      "execution_count": 0,
      "outputs": []
    },
    {
      "cell_type": "code",
      "metadata": {
        "id": "B9cbMZrOULK0",
        "colab_type": "code",
        "colab": {}
      },
      "source": [
        "maxlen = max_len(X)\n",
        "char_size = len(tokenizer.word_index)+1\n",
        "X_train, X_test, y_train,y_test = train_test_split(X,y,test_size = 0.20, random_state = 50)\n",
        "train = tokenizer.texts_to_sequences(X_train)\n",
        "test = tokenizer.texts_to_sequences(X_test)\n",
        "X_tr = pad_sequences(train,maxlen=maxlen)\n",
        "X_te = pad_sequences(test,maxlen=maxlen)"
      ],
      "execution_count": 0,
      "outputs": []
    },
    {
      "cell_type": "code",
      "metadata": {
        "id": "cKlrVHuaULK2",
        "colab_type": "code",
        "colab": {
          "base_uri": "https://localhost:8080/",
          "height": 336
        },
        "outputId": "09c290bd-d567-42dd-9454-f74e6364d43a"
      },
      "source": [
        "model_RNN = models.Sequential()\n",
        "model_RNN.add(layers.Embedding(maxlen, 64, trainable=False))\n",
        "model_RNN.add(layers.LSTM(64))\n",
        "model_RNN.add(layers.Dense(64, activation ='relu'))\n",
        "model_RNN.add(layers.Dropout(0.2))\n",
        "model_RNN.add(layers.Dense(32, activation='relu'))\n",
        "model_RNN.add(layers.Dropout(0.2))\n",
        "model_RNN.add(layers.Dense(15, activation='softmax'))\n",
        "print(model_RNN.summary())"
      ],
      "execution_count": 21,
      "outputs": [
        {
          "output_type": "stream",
          "text": [
            "Model: \"sequential_2\"\n",
            "_________________________________________________________________\n",
            "Layer (type)                 Output Shape              Param #   \n",
            "=================================================================\n",
            "embedding_2 (Embedding)      (None, None, 64)          11520     \n",
            "_________________________________________________________________\n",
            "lstm_2 (LSTM)                (None, 64)                33024     \n",
            "_________________________________________________________________\n",
            "dense_4 (Dense)              (None, 64)                4160      \n",
            "_________________________________________________________________\n",
            "dense_5 (Dense)              (None, 32)                2080      \n",
            "_________________________________________________________________\n",
            "dense_6 (Dense)              (None, 15)                495       \n",
            "=================================================================\n",
            "Total params: 51,279\n",
            "Trainable params: 39,759\n",
            "Non-trainable params: 11,520\n",
            "_________________________________________________________________\n",
            "None\n"
          ],
          "name": "stdout"
        }
      ]
    },
    {
      "cell_type": "code",
      "metadata": {
        "id": "OL6w2tOUULK4",
        "colab_type": "code",
        "colab": {
          "base_uri": "https://localhost:8080/",
          "height": 776
        },
        "outputId": "12d6f0fb-6834-4e86-ef10-9099faa28b91"
      },
      "source": [
        "opt = keras.optimizers.adam(lr=3e-4)\n",
        "model_RNN.compile(optimizer = opt,\n",
        "             loss = 'categorical_crossentropy',\n",
        "             metrics=['categorical_accuracy'])\n",
        "rnn_history = model_RNN.fit(X_tr, y_train,epochs = 10, batch_size = 16,validation_data =[X_te,y_test])"
      ],
      "execution_count": 20,
      "outputs": [
        {
          "output_type": "stream",
          "text": [
            "WARNING:tensorflow:From /usr/local/lib/python3.6/dist-packages/keras/optimizers.py:793: The name tf.train.Optimizer is deprecated. Please use tf.compat.v1.train.Optimizer instead.\n",
            "\n",
            "WARNING:tensorflow:From /usr/local/lib/python3.6/dist-packages/keras/backend/tensorflow_backend.py:3576: The name tf.log is deprecated. Please use tf.math.log instead.\n",
            "\n",
            "WARNING:tensorflow:From /usr/local/lib/python3.6/dist-packages/tensorflow_core/python/ops/math_grad.py:1424: where (from tensorflow.python.ops.array_ops) is deprecated and will be removed in a future version.\n",
            "Instructions for updating:\n",
            "Use tf.where in 2.0, which has the same broadcast rule as np.where\n",
            "WARNING:tensorflow:From /usr/local/lib/python3.6/dist-packages/keras/backend/tensorflow_backend.py:1033: The name tf.assign_add is deprecated. Please use tf.compat.v1.assign_add instead.\n",
            "\n",
            "WARNING:tensorflow:From /usr/local/lib/python3.6/dist-packages/keras/backend/tensorflow_backend.py:1020: The name tf.assign is deprecated. Please use tf.compat.v1.assign instead.\n",
            "\n",
            "WARNING:tensorflow:From /usr/local/lib/python3.6/dist-packages/keras/backend/tensorflow_backend.py:3005: The name tf.Session is deprecated. Please use tf.compat.v1.Session instead.\n",
            "\n",
            "Train on 62356 samples, validate on 15590 samples\n",
            "Epoch 1/10\n",
            "WARNING:tensorflow:From /usr/local/lib/python3.6/dist-packages/keras/backend/tensorflow_backend.py:190: The name tf.get_default_session is deprecated. Please use tf.compat.v1.get_default_session instead.\n",
            "\n",
            "WARNING:tensorflow:From /usr/local/lib/python3.6/dist-packages/keras/backend/tensorflow_backend.py:197: The name tf.ConfigProto is deprecated. Please use tf.compat.v1.ConfigProto instead.\n",
            "\n",
            "WARNING:tensorflow:From /usr/local/lib/python3.6/dist-packages/keras/backend/tensorflow_backend.py:207: The name tf.global_variables is deprecated. Please use tf.compat.v1.global_variables instead.\n",
            "\n",
            "WARNING:tensorflow:From /usr/local/lib/python3.6/dist-packages/keras/backend/tensorflow_backend.py:216: The name tf.is_variable_initialized is deprecated. Please use tf.compat.v1.is_variable_initialized instead.\n",
            "\n",
            "WARNING:tensorflow:From /usr/local/lib/python3.6/dist-packages/keras/backend/tensorflow_backend.py:223: The name tf.variables_initializer is deprecated. Please use tf.compat.v1.variables_initializer instead.\n",
            "\n",
            "62356/62356 [==============================] - 850s 14ms/step - loss: 2.4823 - categorical_accuracy: 0.3824 - val_loss: 2.2202 - val_categorical_accuracy: 0.4821\n",
            "Epoch 2/10\n",
            "62356/62356 [==============================] - 845s 14ms/step - loss: 2.0424 - categorical_accuracy: 0.5649 - val_loss: 1.9223 - val_categorical_accuracy: 0.6101\n",
            "Epoch 3/10\n",
            "62356/62356 [==============================] - 859s 14ms/step - loss: 1.8791 - categorical_accuracy: 0.6225 - val_loss: 1.8138 - val_categorical_accuracy: 0.6479\n",
            "Epoch 4/10\n",
            "62356/62356 [==============================] - 839s 13ms/step - loss: 1.7550 - categorical_accuracy: 0.6657 - val_loss: 1.6970 - val_categorical_accuracy: 0.6833\n",
            "Epoch 5/10\n",
            "62356/62356 [==============================] - 839s 13ms/step - loss: 1.6598 - categorical_accuracy: 0.6987 - val_loss: 1.6453 - val_categorical_accuracy: 0.7087\n",
            "Epoch 6/10\n",
            "62356/62356 [==============================] - 836s 13ms/step - loss: 1.6030 - categorical_accuracy: 0.7180 - val_loss: 1.5759 - val_categorical_accuracy: 0.7282\n",
            "Epoch 7/10\n",
            "62356/62356 [==============================] - 839s 13ms/step - loss: 1.5535 - categorical_accuracy: 0.7345 - val_loss: 1.5515 - val_categorical_accuracy: 0.7314\n",
            "Epoch 8/10\n",
            "62356/62356 [==============================] - 837s 13ms/step - loss: 1.5638 - categorical_accuracy: 0.7322 - val_loss: 1.5151 - val_categorical_accuracy: 0.7514\n",
            "Epoch 9/10\n",
            "62356/62356 [==============================] - 840s 13ms/step - loss: 1.4888 - categorical_accuracy: 0.7515 - val_loss: 1.4791 - val_categorical_accuracy: 0.7564\n",
            "Epoch 10/10\n",
            "62356/62356 [==============================] - 830s 13ms/step - loss: 1.4570 - categorical_accuracy: 0.7592 - val_loss: 1.4538 - val_categorical_accuracy: 0.7581\n"
          ],
          "name": "stdout"
        }
      ]
    },
    {
      "cell_type": "markdown",
      "metadata": {
        "id": "te7bxO537Rjh",
        "colab_type": "text"
      },
      "source": [
        "## 3.2 CNN"
      ]
    },
    {
      "cell_type": "code",
      "metadata": {
        "id": "JRxAmXmlULK7",
        "colab_type": "code",
        "colab": {
          "base_uri": "https://localhost:8080/",
          "height": 437
        },
        "outputId": "120ffd27-d942-4ed0-86b1-3ddd0e7d98ae"
      },
      "source": [
        "model_CNN = models.Sequential()\n",
        "model_CNN.add(layers.Embedding(maxlen,128))\n",
        "model_CNN.add(layers.Conv1D(128,3,padding='valid',activation='relu'))\n",
        "model_CNN.add(layers.GlobalMaxPooling1D())\n",
        "model_CNN.add(layers.Dropout(0.2))\n",
        "model_CNN.add(layers.Dense(64,activation='relu'))\n",
        "model_CNN.add(layers.Dropout(0.2))\n",
        "model_CNN.add(layers.Dense(32,activation='relu'))\n",
        "model_CNN.add(Dense(15,activation='sigmoid'))\n",
        "print(model_CNN.summary())"
      ],
      "execution_count": 35,
      "outputs": [
        {
          "output_type": "stream",
          "text": [
            "Model: \"sequential_9\"\n",
            "_________________________________________________________________\n",
            "Layer (type)                 Output Shape              Param #   \n",
            "=================================================================\n",
            "embedding_8 (Embedding)      (None, None, 128)         23040     \n",
            "_________________________________________________________________\n",
            "conv1d_9 (Conv1D)            (None, None, 128)         49280     \n",
            "_________________________________________________________________\n",
            "global_max_pooling1d_6 (Glob (None, 128)               0         \n",
            "_________________________________________________________________\n",
            "dropout_9 (Dropout)          (None, 128)               0         \n",
            "_________________________________________________________________\n",
            "dense_10 (Dense)             (None, 64)                8256      \n",
            "_________________________________________________________________\n",
            "dropout_10 (Dropout)         (None, 64)                0         \n",
            "_________________________________________________________________\n",
            "dense_11 (Dense)             (None, 32)                2080      \n",
            "_________________________________________________________________\n",
            "dense_12 (Dense)             (None, 15)                495       \n",
            "=================================================================\n",
            "Total params: 83,151\n",
            "Trainable params: 83,151\n",
            "Non-trainable params: 0\n",
            "_________________________________________________________________\n",
            "None\n"
          ],
          "name": "stdout"
        }
      ]
    },
    {
      "cell_type": "code",
      "metadata": {
        "id": "nilPAAAT8MkC",
        "colab_type": "code",
        "colab": {
          "base_uri": "https://localhost:8080/",
          "height": 538
        },
        "outputId": "e2325f7a-07a3-4437-cdbc-c14dfb0f34d9"
      },
      "source": [
        "model_CNN.compile(optimizer = 'adam',\n",
        "             loss = 'categorical_crossentropy',\n",
        "             metrics=['categorical_accuracy'])\n",
        "cnn_history = model_CNN.fit(X_tr, y_train,epochs = 15, batch_size = 128,validation_data =[X_te,y_test])"
      ],
      "execution_count": 36,
      "outputs": [
        {
          "output_type": "stream",
          "text": [
            "Train on 62356 samples, validate on 15590 samples\n",
            "Epoch 1/15\n",
            "62356/62356 [==============================] - 4s 69us/step - loss: 1.7415 - categorical_accuracy: 0.6415 - val_loss: 1.3247 - val_categorical_accuracy: 0.7851\n",
            "Epoch 2/15\n",
            "62356/62356 [==============================] - 4s 58us/step - loss: 1.3633 - categorical_accuracy: 0.7827 - val_loss: 1.2977 - val_categorical_accuracy: 0.7858\n",
            "Epoch 3/15\n",
            "62356/62356 [==============================] - 4s 58us/step - loss: 1.3380 - categorical_accuracy: 0.7857 - val_loss: 1.2897 - val_categorical_accuracy: 0.7859\n",
            "Epoch 4/15\n",
            "62356/62356 [==============================] - 4s 58us/step - loss: 1.3198 - categorical_accuracy: 0.7869 - val_loss: 1.2866 - val_categorical_accuracy: 0.7838\n",
            "Epoch 5/15\n",
            "62356/62356 [==============================] - 4s 60us/step - loss: 1.3099 - categorical_accuracy: 0.7881 - val_loss: 1.2827 - val_categorical_accuracy: 0.7824\n",
            "Epoch 6/15\n",
            "62356/62356 [==============================] - 4s 60us/step - loss: 1.2998 - categorical_accuracy: 0.7877 - val_loss: 1.2772 - val_categorical_accuracy: 0.7842\n",
            "Epoch 7/15\n",
            "62356/62356 [==============================] - 4s 58us/step - loss: 1.2940 - categorical_accuracy: 0.7890 - val_loss: 1.2756 - val_categorical_accuracy: 0.7861\n",
            "Epoch 8/15\n",
            "62356/62356 [==============================] - 4s 58us/step - loss: 1.2873 - categorical_accuracy: 0.7892 - val_loss: 1.2743 - val_categorical_accuracy: 0.7852\n",
            "Epoch 9/15\n",
            "62356/62356 [==============================] - 4s 58us/step - loss: 1.2798 - categorical_accuracy: 0.7900 - val_loss: 1.2723 - val_categorical_accuracy: 0.7826\n",
            "Epoch 10/15\n",
            "62356/62356 [==============================] - 4s 60us/step - loss: 1.2731 - categorical_accuracy: 0.7910 - val_loss: 1.2728 - val_categorical_accuracy: 0.7854\n",
            "Epoch 11/15\n",
            "62356/62356 [==============================] - 4s 60us/step - loss: 1.2689 - categorical_accuracy: 0.7906 - val_loss: 1.2705 - val_categorical_accuracy: 0.7879\n",
            "Epoch 12/15\n",
            "62356/62356 [==============================] - 4s 58us/step - loss: 1.2634 - categorical_accuracy: 0.7924 - val_loss: 1.2737 - val_categorical_accuracy: 0.7898\n",
            "Epoch 13/15\n",
            "62356/62356 [==============================] - 4s 58us/step - loss: 1.2587 - categorical_accuracy: 0.7924 - val_loss: 1.2693 - val_categorical_accuracy: 0.7852\n",
            "Epoch 14/15\n",
            "62356/62356 [==============================] - 4s 59us/step - loss: 1.2519 - categorical_accuracy: 0.7919 - val_loss: 1.2693 - val_categorical_accuracy: 0.7860\n",
            "Epoch 15/15\n",
            "62356/62356 [==============================] - 4s 58us/step - loss: 1.2484 - categorical_accuracy: 0.7926 - val_loss: 1.2681 - val_categorical_accuracy: 0.7838\n"
          ],
          "name": "stdout"
        }
      ]
    },
    {
      "cell_type": "markdown",
      "metadata": {
        "id": "vTnr8dFGB88e",
        "colab_type": "text"
      },
      "source": [
        "## 3.3 Plot"
      ]
    },
    {
      "cell_type": "code",
      "metadata": {
        "id": "Q7sSwzCjCmNT",
        "colab_type": "code",
        "colab": {}
      },
      "source": [
        "from sklearn.metrics import roc_curve, auc\n",
        "from sklearn.metrics import roc_auc_score\n",
        "import matplotlib.pyplot as plt"
      ],
      "execution_count": 0,
      "outputs": []
    },
    {
      "cell_type": "code",
      "metadata": {
        "id": "S7HkLa_GDVjo",
        "colab_type": "code",
        "colab": {
          "base_uri": "https://localhost:8080/",
          "height": 350
        },
        "outputId": "97bc2ae2-0c09-4fa2-fa29-04bf6046099d"
      },
      "source": [
        "plt.figure(figsize=(15,5))\n",
        "plt.subplot(1, 2, 1)\n",
        "plt.plot(cnn_history.history['val_loss'], color = 'red', linestyle=':')\n",
        "plt.plot(cnn_history.history['categorical_accuracy'], color = 'yellow')\n",
        "plt.plot(cnn_history.history['val_categorical_accuracy'], color = 'blue')\n",
        "plt.title('CNN')\n",
        "plt.ylabel('categorical accuracy')\n",
        "plt.xlabel('Epochs')\n",
        "plt.legend(['test loss', 'Train', 'Test'])\n",
        "\n",
        "plt.subplot(1, 2, 2)\n",
        "plt.plot(rnn_history.history['val_loss'],color = 'red', linestyle=':')\n",
        "plt.plot(rnn_history.history['categorical_accuracy'],color = 'yellow')\n",
        "plt.plot(rnn_history.history['val_categorical_accuracy'],color = 'blue')\n",
        "plt.title('RNN')\n",
        "plt.ylabel('categorical accuracy')\n",
        "plt.xlabel('Epochs')\n",
        "plt.legend(['test loss', 'Train', 'Test'])\n",
        "plt.show()"
      ],
      "execution_count": 48,
      "outputs": [
        {
          "output_type": "display_data",
          "data": {
            "image/png": "[encoded data removed]",
            "text/plain": [
              "<Figure size 1080x360 with 2 Axes>"
            ]
          },
          "metadata": {
            "tags": []
          }
        }
      ]
    },
    {
      "cell_type": "code",
      "metadata": {
        "id": "_QAqxxwsIeM4",
        "colab_type": "code",
        "colab": {}
      },
      "source": [
        ""
      ],
      "execution_count": 0,
      "outputs": []
    }
  ]
}